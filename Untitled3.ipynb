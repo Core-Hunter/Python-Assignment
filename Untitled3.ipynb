{
  "nbformat": 4,
  "nbformat_minor": 0,
  "metadata": {
    "colab": {
      "provenance": []
    },
    "kernelspec": {
      "name": "python3",
      "display_name": "Python 3"
    },
    "language_info": {
      "name": "python"
    }
  },
  "cells": [
    {
      "cell_type": "code",
      "execution_count": null,
      "metadata": {
        "colab": {
          "base_uri": "https://localhost:8080/"
        },
        "id": "HAiMLyj04tA2",
        "outputId": "9e0b6d0c-522b-40ca-e45d-4ef822d29838"
      },
      "outputs": [
        {
          "output_type": "stream",
          "name": "stdout",
          "text": [
            "The area of the circle is 78.5\n"
          ]
        }
      ],
      "source": [
        "# Write a Python program to find the area of a circle with a given radius using the formula area = pi * r ** 2. Assume that pi is 3.14.\n",
        "radius = 5\n",
        "pi = 3.14\n",
        "area = pi * radius ** 2\n",
        "print(\"The area of the circle is\", area)"
      ]
    },
    {
      "cell_type": "code",
      "source": [
        "# Write a Python program to convert Celsius to Fahrenheit using the formula F = (C * 9/5) + 32\n",
        "celsius = 37\n",
        "fahrenheit = (celsius * 9/5) + 32\n",
        "print(\"The Fahrenheit temperature is\", fahrenheit)"
      ],
      "metadata": {
        "colab": {
          "base_uri": "https://localhost:8080/"
        },
        "id": "0UZxK2ya5F6w",
        "outputId": "9a949158-1bd1-4053-dfec-562dcae7f55a"
      },
      "execution_count": null,
      "outputs": [
        {
          "output_type": "stream",
          "name": "stdout",
          "text": [
            "The Fahrenheit temperature is 98.6\n"
          ]
        }
      ]
    },
    {
      "cell_type": "code",
      "source": [
        "# Write a Python program to find the quotient and remainder of two numbers using the division operator / and the modulo operator %.\n",
        "dividend = 10\n",
        "divisor = 3\n",
        "quotient = dividend / divisor\n",
        "remainder = dividend % divisor\n",
        "print(\"The quotient is\", quotient)\n",
        "print(\"The remainder is\", remainder)"
      ],
      "metadata": {
        "colab": {
          "base_uri": "https://localhost:8080/"
        },
        "id": "S7GDNJUh5cI1",
        "outputId": "ed3e3321-9985-47bc-f4f0-134170f1dca5"
      },
      "execution_count": null,
      "outputs": [
        {
          "output_type": "stream",
          "name": "stdout",
          "text": [
            "The quotient is 3.3333333333333335\n",
            "The remainder is 1\n"
          ]
        }
      ]
    },
    {
      "cell_type": "code",
      "source": [
        "# Write a Python program to check whether a given number is even or odd using the modulo operator %.\n",
        "number = 10\n",
        "if number % 2 == 0:\n",
        "  print(\"The number is even.\")\n",
        "else:\n",
        "  print(\"The number is odd.\")"
      ],
      "metadata": {
        "colab": {
          "base_uri": "https://localhost:8080/"
        },
        "id": "BjHc30SA5yPz",
        "outputId": "b6091958-a9ae-493c-de20-ac29bc9763bc"
      },
      "execution_count": null,
      "outputs": [
        {
          "output_type": "stream",
          "name": "stdout",
          "text": [
            "The number is even.\n"
          ]
        }
      ]
    },
    {
      "cell_type": "code",
      "source": [
        "# Write a Python program to calculate the average of three numbers entered by the user.\n",
        "num1 = 10\n",
        "num2 = 20\n",
        "num3 = 30\n",
        "average = (num1 + num2 + num3) / 3\n",
        "print(\"The average of the three numbers is\", average)"
      ],
      "metadata": {
        "colab": {
          "base_uri": "https://localhost:8080/"
        },
        "id": "2jKpQ_jI6DVu",
        "outputId": "18c0b49b-6c09-42ea-9c1e-966b16ac148b"
      },
      "execution_count": null,
      "outputs": [
        {
          "output_type": "stream",
          "name": "stdout",
          "text": [
            "The average of the three numbers is 20.0\n"
          ]
        }
      ]
    },
    {
      "cell_type": "code",
      "source": [
        "# Write a Python program to swap two variables without using a temporary variable.\n",
        "x = 10\n",
        "y = 20\n",
        "x = x ^ y\n",
        "y = x ^ y\n",
        "x = x ^ y\n",
        "print(\"The value of x is\", x)\n",
        "print(\"The value of y is\", y)"
      ],
      "metadata": {
        "colab": {
          "base_uri": "https://localhost:8080/"
        },
        "id": "RAggFTvv6U5o",
        "outputId": "007a05f5-ed55-45b5-82b3-5ee4fd49b662"
      },
      "execution_count": null,
      "outputs": [
        {
          "output_type": "stream",
          "name": "stdout",
          "text": [
            "The value of x is 20\n",
            "The value of y is 10\n"
          ]
        }
      ]
    },
    {
      "cell_type": "code",
      "source": [
        "# Write a Python program to calculate the area of a rectangle with given length and breadth.\n",
        "length = 10\n",
        "breadth = 5\n",
        "area = length * breadth\n",
        "print(\"The area of the rectangle is\", area)"
      ],
      "metadata": {
        "colab": {
          "base_uri": "https://localhost:8080/"
        },
        "id": "VwkTmohA6hz9",
        "outputId": "48afd20d-8d20-412e-d155-b9e42927ec65"
      },
      "execution_count": null,
      "outputs": [
        {
          "output_type": "stream",
          "name": "stdout",
          "text": [
            "The area of the rectangle is 50\n"
          ]
        }
      ]
    },
    {
      "cell_type": "code",
      "source": [
        "# Write a Python program to calculate the sum of the digits of a three-digit number.\n",
        "number = 123\n",
        "sum_of_digits = number // 100 + (number % 100) // 10 + number % 10\n",
        "print(\"The sum of the digits of the number is\", sum_of_digits)"
      ],
      "metadata": {
        "colab": {
          "base_uri": "https://localhost:8080/"
        },
        "id": "lqo2y9JG6vGk",
        "outputId": "dd8f8fbe-ee79-485c-ec90-edadf440eb63"
      },
      "execution_count": null,
      "outputs": [
        {
          "output_type": "stream",
          "name": "stdout",
          "text": [
            "The sum of the digits of the number is 6\n"
          ]
        }
      ]
    },
    {
      "cell_type": "code",
      "source": [
        "# Write a Python program to check whether a given year is a leap year or not.\n",
        "year = 2020\n",
        "if year % 4 == 0:\n",
        "  if year % 100 == 0:\n",
        "    if year % 400 == 0:\n",
        "      print(\"The year is a leap year.\")\n",
        "    else:\n",
        "      print(\"The year is not a leap year.\")\n",
        "  else:\n",
        "    print(\"The year is a leap year.\")\n",
        "else:\n",
        "  print(\"The year is not a leap year.\")"
      ],
      "metadata": {
        "colab": {
          "base_uri": "https://localhost:8080/"
        },
        "id": "qz7hMY0Q8gXu",
        "outputId": "066df7f2-24c0-45e4-c0dc-5860a9dc640e"
      },
      "execution_count": null,
      "outputs": [
        {
          "output_type": "stream",
          "name": "stdout",
          "text": [
            "The year is a leap year.\n"
          ]
        }
      ]
    },
    {
      "cell_type": "code",
      "source": [
        "# Write a Python program to find the maximum and minimum of two numbers entered by the user.\n",
        "num1 = float(input(\"Enter the first number: \"))\n",
        "num2 = float(input(\"Enter the second number: \"))\n",
        "if num1 > num2:\n",
        "  max_num = num1\n",
        "else:\n",
        "  max_num = num2\n",
        "if num1 < num2:\n",
        "  min_num = num1\n",
        "else:\n",
        "  min_num = num2\n",
        "print(\"The maximum of the two numbers is\", max_num)\n",
        "print(\"The minimum of the two numbers is\", min_num)"
      ],
      "metadata": {
        "colab": {
          "base_uri": "https://localhost:8080/"
        },
        "id": "suwYz7ip817t",
        "outputId": "5e0a39ab-6bc5-47bc-c095-60081cd8fe39"
      },
      "execution_count": null,
      "outputs": [
        {
          "output_type": "stream",
          "name": "stdout",
          "text": [
            "Enter the first number: 99\n",
            "Enter the second number: 1000\n",
            "The maximum of the two numbers is 1000.0\n",
            "The minimum of the two numbers is 99.0\n"
          ]
        }
      ]
    },
    {
      "cell_type": "code",
      "source": [
        "# prompt: create a scientific calculator\n",
        "\n",
        "import math\n",
        "\n",
        "def add(x, y):\n",
        "  return x + y\n",
        "\n",
        "def subtract(x, y):\n",
        "  return x - y\n",
        "\n",
        "def multiply(x, y):\n",
        "  return x * y\n",
        "\n",
        "def divide(x, y):\n",
        "  return x / y\n",
        "\n",
        "def square_root(x):\n",
        "  return math.sqrt(x)\n",
        "\n",
        "def power(x, y):\n",
        "  return math.pow(x, y)\n",
        "\n",
        "def logarithm(x):\n",
        "  return math.log(x)\n",
        "\n",
        "def sine(x):\n",
        "  return math.sin(x)\n",
        "\n",
        "def cosine(x):\n",
        "  return math.cos(x)\n",
        "\n",
        "def tangent(x):\n",
        "  return math.tan(x)\n",
        "\n",
        "def inverse_sine(x):\n",
        "  return math.asin(x)\n",
        "\n",
        "def inverse_cosine(x):\n",
        "  return math.acos(x)\n",
        "\n",
        "def inverse_tangent(x):\n",
        "  return math.atan(x)\n",
        "\n",
        "def factorial(x):\n",
        "  return math.factorial(x)\n",
        "\n",
        "def absolute_value(x):\n",
        "  return math.fabs(x)\n",
        "\n",
        "def floor(x):\n",
        "  return math.floor(x)\n",
        "\n",
        "def ceiling(x):\n",
        "  return math.ceil(x)\n",
        "\n",
        "def round(x):\n",
        "  return math.round(x)\n",
        "\n",
        "def truncate(x):\n",
        "  return math.trunc(x)\n",
        "\n",
        "def remainder(x, y):\n",
        "  return x % y\n",
        "\n",
        "def quotient(x, y):\n",
        "  return x // y\n",
        "\n",
        "def is_even(x):\n",
        "  return x % 2 == 0\n",
        "\n",
        "def is_odd(x):\n",
        "  return x % 2 != 0\n",
        "\n",
        "def is_prime(x):\n",
        "  if x <= 1:\n",
        "    return False\n",
        "  for i in range(2, int(x**0.5) + 1):\n",
        "    if x % i == 0:\n",
        "      return False\n",
        "  return True\n",
        "\n",
        "def is_perfect_square(x):\n",
        "  if x < 0:\n",
        "    return False\n",
        "  sqrt = math.sqrt(x)\n",
        "  return sqrt == int(sqrt)\n",
        "\n",
        "def is_perfect_cube(x):\n",
        "  if x < 0:\n",
        "    return False\n",
        "  cbrt = math.cbrt(x)\n",
        "  return cbrt == int(cbrt)\n",
        "\n",
        "def is_palindrome(x):\n",
        "  return str(x) == str(x)[::-1]\n",
        "\n",
        "def is_anagram(x, y):\n",
        "  return sorted(x) == sorted(y)\n",
        "\n",
        "def is_palindrome_anagram(x):\n",
        "  return is_palindrome(x) and is_anagram(x, x[::-1])\n",
        "\n",
        "def is_perfect_number(x):\n",
        "  if x <= 1:\n",
        "    return False\n",
        "  sum_of_divisors = 0\n",
        "  for i in range(1, int(x**0.5) + 1):\n",
        "    if x % i == 0:\n",
        "      sum_of_divisors += i\n",
        "      if x / i != i:\n",
        "        sum_of_divisors += x / i\n",
        "  return sum_of_divisors == x\n",
        "\n",
        "def is_abundant_number(x):\n",
        "  if x <= 1:\n",
        "    return False\n",
        "  sum_of_divisors = 0\n",
        "  for i in range(1, int(x**0.5) + 1):\n",
        "    if x % i == 0:\n",
        "      sum_of_divisors += i\n",
        "      if x / i != i:\n",
        "        sum_of_divisors += x / i\n",
        "  return sum_of_divisors > x\n",
        "\n",
        "def is_deficient_number(x):\n",
        "  if x <= 1:\n",
        "    return False\n",
        "  sum_of_divisors = 0\n",
        "  for i in range(1, int(x**0.5) + 1):\n",
        "    if x % i == 0:\n",
        "      sum_of_divisors += i\n",
        "      if x / i != i:\n",
        "        sum_of_divisors += x / i\n",
        "  return sum_of_divisors < x\n",
        "\n",
        "def is_amicable_number(x):\n",
        "  if x <= 1:\n",
        "    return False\n",
        "  sum_of_divisors_x = 0\n",
        "  for i in range(1, int(x**0.5) + 1):\n",
        "    if x % i == 0:\n",
        "      sum_of_divisors_x += i\n",
        "      if x / i != i:\n",
        "        sum_of_divisors_x += x / i\n",
        "  y = sum_of_divisors_x - x\n",
        "  if y <= 1:\n",
        "    return False\n",
        "  sum_of_divisors_y = 0\n",
        "  for i in range(1, int(y**0.5) + 1):\n",
        "    if y % i == 0:\n",
        "      sum_of_divisors_y += i\n",
        "      if y / i != i:\n",
        "        sum_of_divisors_y += y / i\n",
        "  return sum_of_divisors_y - y == x\n",
        "\n",
        "def is_perfect_amicable_number(x):\n",
        "  return is_perfect_number(x) and is_amicable_number(x)\n",
        "\n",
        "def is_sociable_number(x):\n",
        "  if x <= 1:\n",
        "    return False\n",
        "  sum_of_divisors = 0\n",
        "  for i in range(1, int(x**0.5) + 1):\n",
        "    if x % i == 0:\n",
        "      sum_of_divisors += i\n",
        "      if x / i != i:\n",
        "        sum_of_divisors += x / i\n",
        "  y = sum_of_divisors - x\n",
        "  if y <= 1:\n",
        "    return False\n",
        "  z = sum_of_divisors_y - y\n",
        "  if z <= 1:\n",
        "    return False\n",
        "  return z == x\n",
        "\n",
        "def is_perfect_sociable_number(x):\n",
        "  return is_perfect_number(x) and is_sociable_number(x)\n",
        "\n",
        "def is_happy_number(x):\n",
        "  seen = set()\n",
        "  while x != 1:\n",
        "    if x in seen:\n",
        "      return False\n",
        "    seen.add(x)\n",
        "    sum_of_squares = 0\n",
        "    while x > 0:\n",
        "      digit = x % 10\n",
        "      sum_of_squares += digit * digit\n",
        "      x //= 10\n",
        "    x = sum_of_squares\n",
        "  return True\n",
        "\n",
        "def is_sad_number(x):\n",
        "  return not is_happy_number(x)\n",
        "\n",
        "def is_ugly_number(x):\n",
        "  if x <= 0:\n",
        "    return False\n",
        "  for factor in [2, 3, 5]:\n",
        "    while x % factor == 0:\n",
        "      x //= factor\n",
        "  return x == 1\n",
        "\n",
        "def is_strong_number(x):\n",
        "  if x <= 0:\n",
        "    return False\n",
        "  sum_of_factorials = 0\n",
        "  for digit in str(x):\n",
        "    sum_of_factorials += math.factorial(int(digit))\n",
        "  return sum_of_factorials == x\n",
        "\n",
        "def is_perfect_strong_number(x):\n",
        "  return is_perfect_number(x) and is_strong_number(x)\n",
        "\n",
        "def is_prime_strong_number(x):\n",
        "  return is_prime(x) and is_strong_number(x)\n",
        "\n",
        "def is_coprime(x, y):\n",
        "  if x <= 1 or y <= 1:\n",
        "    return False\n",
        "  for i in range(2, min(x, y) + 1):\n",
        "    if x % i == 0 and y % i == 0:\n",
        "      return False\n",
        "  return True\n",
        "\n",
        "def is_twin_prime(x):\n",
        "  if x <= 1:\n",
        "    return False\n",
        "  return is_prime(x) and is_prime(x + 2)\n",
        "\n",
        "def is_cousin_prime(x):\n",
        "  if x <= 1:\n",
        "    return False\n",
        "  sqrt_x = math.sqrt(x)\n",
        "  return is_prime(x) and is_prime(int(sqrt_x)) and int(sqrt_x) != sqrt_x\n",
        "\n",
        "def is_sexy_prime(x):\n",
        "  if x <= 1:\n",
        "    return False\n",
        "  return is_prime(x) and is_prime(x + 6)\n",
        "\n",
        "def is_repunit_prime(x):\n",
        "  if x <= 1:\n",
        "    return False\n",
        "  return is_prime(int('1' * x, 10))\n",
        "\n",
        "def is_perfect_repunit_prime(x):\n",
        "  return is_perfect_number(x) and is_repunit_prime(x)\n",
        "\n",
        "def is_prime_repunit_prime(x):\n",
        "  return is_prime(x) and is_repunit_prime(x)\n",
        "\n",
        "def is_perfect_prime_repunit_prime(x):\n",
        "  return is_perfect_number(x) and is_prime(x) and is_repunit_prime(x)\n",
        "def is_superprime(x):\n",
        "  if x <= 1:\n",
        "    return False"
      ],
      "metadata": {
        "id": "MO9TXWS_614O"
      },
      "execution_count": null,
      "outputs": []
    },
    {
      "cell_type": "code",
      "source": [
        "# prompt: create a calculator code in pycharm\n",
        "\n",
        "# This Python program is a simple calculator that can perform basic arithmetic operations.\n",
        "\n",
        "# The program starts by defining a function called \"calculate\" that takes three arguments: the first number, the second number, and the operation to be performed.\n",
        "# The function then uses a series of if statements to determine which operation to perform, and then performs the operation and returns the result.\n",
        "\n",
        "# The program then defines a main function that calls the \"calculate\" function with the user's input.\n",
        "# The main function then prints the result of the calculation to the console.\n",
        "\n",
        "def calculate(num1, num2, operation):\n",
        "  if operation == \"+\":\n",
        "    return num1 + num2\n",
        "  elif operation == \"-\":\n",
        "    return num1 - num2\n",
        "  elif operation == \"*\":\n",
        "    return num1 * num2\n",
        "  elif operation == \"/\":\n",
        "    return num1 / num2\n",
        "  else:\n",
        "    return \"Invalid operation\"\n",
        "\n",
        "def main():\n",
        "  num1 = float(input(\"Enter the first number: \"))\n",
        "  num2 = float(input(\"Enter the second number: \"))\n",
        "  operation = input(\"Enter the operation to be performed (+, -, *, /): \")\n",
        "  result = calculate(num1, num2, operation)\n",
        "  print(\"The result is:\", result)\n",
        "\n",
        "if __name__ == \"__main__\":\n",
        "  main()"
      ],
      "metadata": {
        "id": "JS3s7Vvg7ANk"
      },
      "execution_count": null,
      "outputs": []
    }
  ]
}